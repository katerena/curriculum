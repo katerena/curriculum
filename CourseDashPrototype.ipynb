{
 "cells": [
  {
   "cell_type": "markdown",
   "metadata": {},
   "source": [
    "# Today.txt"
   ]
  },
  {
   "cell_type": "code",
   "execution_count": 40,
   "metadata": {
    "collapsed": false
   },
   "outputs": [
    {
     "name": "stdout",
     "output_type": "stream",
     "text": [
      "Whateversdfasd\n",
      "['A asdfasdf', 'Bfsdfsad asdfasd', 'Cdfasdf']\n"
     ]
    }
   ],
   "source": [
    "from __future__ import print_function\n",
    "from ipywidgets import interact, interactive, fixed\n",
    "import ipywidgets as widgets\n",
    "\n",
    "def f(big_goal, one, two, three):\n",
    "    output = \"If nothing else, today I am going to \" + big_goal + \".\\n\"\n",
    "    output += \"I am going to do this by \" + one + \" then \" + two + \" then \" + three + \".\\n\"\n",
    "    output += \"If I do this and only this, [\" + datetime.datetime.today().strftime('%d.%m.%Y')\n",
    "    output += \" will be a good day](http://johnhenrymuller.com/today).\"\n",
    "\n",
    "    fo = open(\"today.txt\", \"w\")\n",
    "    fo.write(output)\n",
    "    fo.close()\n",
    "    s()\n",
    "\n",
    "def s():\n",
    "    today = open(\"today.txt\", 'r').read()\n",
    "    lines = today.split(\"\\n\")\n",
    "    big_goal = lines[0][len(\"If nothing else, today I am going to \"):-1]\n",
    "    parts = [p.strip() for p in lines[1][len(\"I am going to do this by \"):-1].split(\"then\")]\n",
    "    print(big_goal)\n",
    "    print(parts)\n",
    "\n",
    "s()\n",
    "interact(f, big_goal=big_goal, one=parts[0], two=parts[1], three=parts[2], __manual=True)\n",
    "    \n"
   ]
  },
  {
   "cell_type": "markdown",
   "metadata": {},
   "source": [
    "# Get Outstanding Tasks"
   ]
  },
  {
   "cell_type": "code",
   "execution_count": 41,
   "metadata": {
    "collapsed": false,
    "scrolled": true
   },
   "outputs": [
    {
     "data": {
      "text/html": [
       "<h2><a href=\"[https://docs.google.com/document/d/1CD2bOwV5-VAXorAmYwHZQjEucoX6n8qLg1DmEmHeeCs/edit?usp=sharing]\">Art of Programming (0 days)</a></h2>\n"
      ],
      "text/plain": [
       "<IPython.core.display.HTML object>"
      ]
     },
     "metadata": {},
     "output_type": "display_data"
    },
    {
     "name": "stdout",
     "output_type": "stream",
     "text": [
      "C:\\Users\\Kateryna.Kuksenok\\Documents\\headhunger\\courses\\art-of-programming\\README.md\n"
     ]
    },
    {
     "data": {
      "text/html": [
       "<p><em>Learning Goal</em>: Overview of approaches to debugging</p>\n"
      ],
      "text/plain": [
       "<IPython.core.display.HTML object>"
      ]
     },
     "metadata": {},
     "output_type": "display_data"
    },
    {
     "data": {
      "text/html": [
       "<ul>\n",
       "<li>Reading: <em>The Developer's Guide to Debugging (2nd ed)</em>, by Groetker, Holtmann, Keding, Wloka</li>\n",
       "<li>Reading: Code Smells</li>\n",
       "<li>Reading K? Software Tools</li>\n",
       "</ul>\n"
      ],
      "text/plain": [
       "<IPython.core.display.HTML object>"
      ]
     },
     "metadata": {},
     "output_type": "display_data"
    },
    {
     "data": {
      "text/html": [
       "<h2><a href=\"https://www.coursera.org/learn/game-character-design/home/welcome\">Video Game Character Design (0 days)</a></h2>\n"
      ],
      "text/plain": [
       "<IPython.core.display.HTML object>"
      ]
     },
     "metadata": {},
     "output_type": "display_data"
    },
    {
     "name": "stdout",
     "output_type": "stream",
     "text": [
      "C:\\Users\\Kateryna.Kuksenok\\Documents\\headhunger\\courses\\character-design\\README.md\n"
     ]
    },
    {
     "data": {
      "text/html": [
       "<ul>\n",
       "<li><a href=\"https://www.coursera.org/learn/game-character-design/peer/37ss8/opposites-attract\">Opposites Attract</a> \"In this assignment I'd like you to expand on the previous assignment and try drawing two characters for a possible game. Maybe one is a hero and another is a villain. One could be a boss and another could be an underling. The challenge will be to give each character a clearly different design. As an example, think of Andy's approach with his softer, rounder explorer and his harsher, sharper aliens. Or pair a mechanical style on one character with a more organic look for another character. Or a rustic approach on one character could contrast with a more modern approach on another character. ... Does each character have a different approach to their design? For example, do the characters vary in shape, pose, expression, proportion, mood, etc.?\"</li>\n",
       "<li>Review peer submissions</li>\n",
       "</ul>\n"
      ],
      "text/plain": [
       "<IPython.core.display.HTML object>"
      ]
     },
     "metadata": {},
     "output_type": "display_data"
    },
    {
     "data": {
      "text/html": [
       "<h2>Current Topics in Big-Picture Science (-1 days)</h2>\n"
      ],
      "text/plain": [
       "<IPython.core.display.HTML object>"
      ]
     },
     "metadata": {},
     "output_type": "display_data"
    },
    {
     "name": "stdout",
     "output_type": "stream",
     "text": [
      "C:\\Users\\Kateryna.Kuksenok\\Documents\\headhunger\\courses\\current-big-sci\\README.md\n"
     ]
    },
    {
     "data": {
      "text/html": [
       "<ul>\n",
       "<li><a href=\"http://nautil.us/term/f/Linguistics\">NAUTILUS Linguistics</a></li>\n",
       "<li><a href=\"http://nautil.us/issue/43/heroes\">NAUTIUL Heroes</a></li>\n",
       "</ul>\n"
      ],
      "text/plain": [
       "<IPython.core.display.HTML object>"
      ]
     },
     "metadata": {},
     "output_type": "display_data"
    },
    {
     "data": {
      "text/html": [
       "<h2>German (0 days)</h2>\n"
      ],
      "text/plain": [
       "<IPython.core.display.HTML object>"
      ]
     },
     "metadata": {},
     "output_type": "display_data"
    },
    {
     "name": "stdout",
     "output_type": "stream",
     "text": [
      "C:\\Users\\Kateryna.Kuksenok\\Documents\\headhunger\\courses\\german\\README.md\n"
     ]
    },
    {
     "data": {
      "text/html": [
       "<ul>\n",
       "<li>Get <a href=\"http://duolingo.com\">Golden Tree on Duolingo</a></li>\n",
       "<li>Flesh out this curriculum</li>\n",
       "</ul>\n"
      ],
      "text/plain": [
       "<IPython.core.display.HTML object>"
      ]
     },
     "metadata": {},
     "output_type": "display_data"
    },
    {
     "data": {
      "text/html": [
       "<h2><a href=\"https://www.coursera.org/learn/fundamentals-of-graphic-design/home/welcome\">Fundamentals of Graphic Design (0 days)</a></h2>\n"
      ],
      "text/plain": [
       "<IPython.core.display.HTML object>"
      ]
     },
     "metadata": {},
     "output_type": "display_data"
    },
    {
     "name": "stdout",
     "output_type": "stream",
     "text": [
      "C:\\Users\\Kateryna.Kuksenok\\Documents\\headhunger\\courses\\graphic-design\\README.md\n"
     ]
    },
    {
     "data": {
      "text/html": [
       "<ul>\n",
       "<li><a href=\"https://www.coursera.org/learn/fundamentals-of-graphic-design/peer/3W48d/brief-1-1-explorations-in-imagemaking-required\">Exploration of imagemaking: a simple object, 10 ways</a> Note: \"Make them all approximately the same size, 5 x 5 inches, each in the middle of an 8.5 x 11\" or A4 (vertical) sheet of paper. If you make your images by hand, please scan them at 300ppi at 100% of size. To create your images, here are some materials you can consider: Pencil, Crayon Charcoal, Photograph, Watercolor, Colored pencil, Marker, Collage, Flat, Illustrator drawing, Scanned objects, Clay, Chalk, Sculpture, Found trash, Scraperboard, Lino cut, Monoprint, Blind drawing, Potato print, 3-d model, Photoshop manipulation, Ballpoint pen in one continuous line ... Also think about what kind of imagemaking aesthetics or strategies you might employ: Any historical design or art movement: Cartoon, Realistic, Surreal, Symbol/icon, Impressionistic, Abstract, Historical, Complex, Minimal, Cubist, Decorative\" + Scientific Illustration!</li>\n",
       "<li>Review 2 others' assignments</li>\n",
       "</ul>\n"
      ],
      "text/plain": [
       "<IPython.core.display.HTML object>"
      ]
     },
     "metadata": {},
     "output_type": "display_data"
    },
    {
     "data": {
      "text/html": [
       "<h2><a href=\"https://www.coursera.org/learn/edinburgh-music-theory/home/welcome\">Fundamentals of Music Theory (0 days)</a></h2>\n"
      ],
      "text/plain": [
       "<IPython.core.display.HTML object>"
      ]
     },
     "metadata": {},
     "output_type": "display_data"
    },
    {
     "name": "stdout",
     "output_type": "stream",
     "text": [
      "C:\\Users\\Kateryna.Kuksenok\\Documents\\headhunger\\courses\\music-theory\\README.md\n"
     ]
    },
    {
     "data": {
      "text/html": [
       "<ul>\n",
       "<li>Quiz</li>\n",
       "</ul>\n"
      ],
      "text/plain": [
       "<IPython.core.display.HTML object>"
      ]
     },
     "metadata": {},
     "output_type": "display_data"
    },
    {
     "data": {
      "text/html": [
       "<h2><a href=\"https://www.coursera.org/learn/script-writing/home/welcome\">Script Writing (0 days)</a></h2>\n"
      ],
      "text/plain": [
       "<IPython.core.display.HTML object>"
      ]
     },
     "metadata": {},
     "output_type": "display_data"
    },
    {
     "name": "stdout",
     "output_type": "stream",
     "text": [
      "C:\\Users\\Kateryna.Kuksenok\\Documents\\headhunger\\courses\\script-writing\\README.md\n"
     ]
    },
    {
     "data": {
      "text/html": [
       "<ul>\n",
       "<li>Episode pitch</li>\n",
       "<li>Act 1 outline</li>\n",
       "<li>Act 1 draft</li>\n",
       "<li>Episode pitch - peer review</li>\n",
       "<li>Act 1 outline - peer review</li>\n",
       "<li>Act 1 draft - peer review</li>\n",
       "</ul>\n"
      ],
      "text/plain": [
       "<IPython.core.display.HTML object>"
      ]
     },
     "metadata": {},
     "output_type": "display_data"
    },
    {
     "data": {
      "text/html": [
       "<h2>Songwriting (1 days)</h2>\n"
      ],
      "text/plain": [
       "<IPython.core.display.HTML object>"
      ]
     },
     "metadata": {},
     "output_type": "display_data"
    },
    {
     "name": "stdout",
     "output_type": "stream",
     "text": [
      "C:\\Users\\Kateryna.Kuksenok\\Documents\\headhunger\\courses\\songwriting\\README.md\n"
     ]
    },
    {
     "data": {
      "text/html": [
       "<ul>\n",
       "<li>Watch the videos</li>\n",
       "<li><a href=\"https://www.coursera.org/learn/songwriting-lyrics/peer/FG1cp/developing-an-idea-from-the-title\">Consider the assignment: idea from title</a></li>\n",
       "<li>Paste in rest of curriculum, with care how to integrate creation and feedback in this audit-only course. <strong>Broader Question: how to integrate courses from multiple material sources in the self-guided context?</strong></li>\n",
       "</ul>\n"
      ],
      "text/plain": [
       "<IPython.core.display.HTML object>"
      ]
     },
     "metadata": {},
     "output_type": "display_data"
    },
    {
     "data": {
      "text/html": [
       "<h2><a href=\"https://www.coursera.org/learn/statistical-inferences/home/welcome\">Improving your statistical inferences (0 days)</a></h2>\n"
      ],
      "text/plain": [
       "<IPython.core.display.HTML object>"
      ]
     },
     "metadata": {},
     "output_type": "display_data"
    },
    {
     "name": "stdout",
     "output_type": "stream",
     "text": [
      "C:\\Users\\Kateryna.Kuksenok\\Documents\\headhunger\\courses\\stats\\README.md\n"
     ]
    },
    {
     "data": {
      "text/html": [
       "<ul>\n",
       "<li>Quiz</li>\n",
       "</ul>\n"
      ],
      "text/plain": [
       "<IPython.core.display.HTML object>"
      ]
     },
     "metadata": {},
     "output_type": "display_data"
    },
    {
     "data": {
      "text/html": [
       "<h2><a href=\"https://www.coursera.org/learn/the-blues/home/welcome\">The Blues: Understanding and Performing an American Art Form (0 days)</a></h2>\n"
      ],
      "text/plain": [
       "<IPython.core.display.HTML object>"
      ]
     },
     "metadata": {},
     "output_type": "display_data"
    },
    {
     "name": "stdout",
     "output_type": "stream",
     "text": [
      "C:\\Users\\Kateryna.Kuksenok\\Documents\\headhunger\\courses\\the-blues\\README.md\n"
     ]
    },
    {
     "data": {
      "text/html": [
       "<ul>\n",
       "<li>Quiz</li>\n",
       "</ul>\n"
      ],
      "text/plain": [
       "<IPython.core.display.HTML object>"
      ]
     },
     "metadata": {},
     "output_type": "display_data"
    },
    {
     "data": {
      "text/html": [
       "<h2>Establishing a Sustainable Health Pattern (1 days)</h2>\n"
      ],
      "text/plain": [
       "<IPython.core.display.HTML object>"
      ]
     },
     "metadata": {},
     "output_type": "display_data"
    },
    {
     "name": "stdout",
     "output_type": "stream",
     "text": [
      "C:\\Users\\Kateryna.Kuksenok\\Documents\\headhunger\\courses\\yoga\\README.md\n"
     ]
    },
    {
     "data": {
      "text/html": [
       "<p><em>Learning Goal</em>: continue to cultivate a pattern of short regular sessions</p>\n"
      ],
      "text/plain": [
       "<IPython.core.display.HTML object>"
      ]
     },
     "metadata": {},
     "output_type": "display_data"
    },
    {
     "data": {
      "text/html": [
       "<ul>\n",
       "<li>One evening DailyYoga session</li>\n",
       "<li>Bouldering or a long-ish bike ride</li>\n",
       "<li>Formal meditation</li>\n",
       "</ul>\n"
      ],
      "text/plain": [
       "<IPython.core.display.HTML object>"
      ]
     },
     "metadata": {},
     "output_type": "display_data"
    },
    {
     "data": {
      "text/html": [
       "<h2><em>Shown: 11/36 </em></h2>"
      ],
      "text/plain": [
       "<IPython.core.display.HTML object>"
      ]
     },
     "metadata": {},
     "output_type": "display_data"
    }
   ],
   "source": [
    "not_showing = 0\n",
    "\n",
    "output = open(\"header.html\", 'r').read()\n",
    "output += markdown(open(\"today.txt\", 'r').read())\n",
    "\n",
    "total = 0\n",
    "shown = 0\n",
    "\n",
    "for course in Course.list_all(\"courses\"):\n",
    "    step = course.current_step()\n",
    "    total += 1\n",
    "    if step == None:\n",
    "        continue\n",
    "    ping_radius = int(course.ping_radius())\n",
    "    if ping_radius > 3:\n",
    "        continue\n",
    "    shown += 1    \n",
    "\n",
    "    title = course.course_desc.title  + \" (\" + str(ping_radius) + \" days)\"\n",
    "    if Meta.URL in course.course_desc.meta:\n",
    "        title = \"## [\" + title + \"](\" + course.course_desc.meta[Meta.URL] + \")\"\n",
    "    else:\n",
    "        title = \"## \" + title + \"\"\n",
    "\n",
    "    if Meta.THUMB in course.course_desc.meta:\n",
    "        output += get_img(course.course_desc.meta[Meta.THUMB])\n",
    "        \n",
    "    display(HTML(markdown(title)))\n",
    "    output += markdown(title)\n",
    "    \n",
    "    print(course.fullpath)\n",
    "    \n",
    "    if Meta.LEARNING_GOAL in step.meta:\n",
    "        display(HTML(markdown(\"_\" + Meta.LEARNING_GOAL + \"_: \" + step.meta[Meta.LEARNING_GOAL])))\n",
    "        output += markdown(\"\\n\\n_\" + Meta.LEARNING_GOAL + \"_: \" + step.meta[Meta.LEARNING_GOAL])\n",
    "    \n",
    "    display(HTML(markdown(\"* \" + \"\\n* \".join(step.tasks))))\n",
    "    output += markdown(\"\\n\\n* \" + \"\\n* \".join(step.tasks))\n",
    "    \n",
    "display(HTML(\"<h2><em>Shown: \" + str(shown) + \"/\" + str(total) + \" </em></h2>\"))\n",
    "output += \"\\n<h2><em>Shown: \" + str(shown) + \"/\" + str(total) + \" </em></h2>\\n\"\n",
    "\n",
    "\n",
    "fo = open(\"index.html\", \"w\")\n",
    "\n",
    "fo.write(output)\n",
    "\n",
    "fo.close()\n"
   ]
  },
  {
   "cell_type": "code",
   "execution_count": 16,
   "metadata": {
    "collapsed": true
   },
   "outputs": [],
   "source": [
    "def get_img(imgsrc):\n",
    "    return '''<p><label for=\"mn-figure-1\" class=\"margin-toggle\">&#8853;</label>\n",
    "            <input type=\"checkbox\" id=\"mn-figure-1\" class=\"margin-toggle\"/><span class=\"marginnote\">\n",
    "           <img src=\"images/''' + imgsrc + '''\"></p>'''"
   ]
  },
  {
   "cell_type": "markdown",
   "metadata": {},
   "source": [
    "# Identify missing metadata"
   ]
  },
  {
   "cell_type": "code",
   "execution_count": 10,
   "metadata": {
    "collapsed": false
   },
   "outputs": [
    {
     "name": "stdout",
     "output_type": "stream",
     "text": [
      "C:\\Users\\Kateryna.Kuksenok\\Documents\\headhunger\\courses\\ancient-philosophy\\README.md lacks Category\n",
      "C:\\Users\\Kateryna.Kuksenok\\Documents\\headhunger\\courses\\ancient-philosophy\\README.md lacks Start\n",
      "C:\\Users\\Kateryna.Kuksenok\\Documents\\headhunger\\courses\\art-of-programming\\README.md = Readings 0\n",
      "C:\\Users\\Kateryna.Kuksenok\\Documents\\headhunger\\courses\\art-of-programming\\README.md lacks Start\n",
      "C:\\Users\\Kateryna.Kuksenok\\Documents\\headhunger\\courses\\big-history\\README.md = History 0\n",
      "C:\\Users\\Kateryna.Kuksenok\\Documents\\headhunger\\courses\\buddhism-psych\\README.md lacks Category\n",
      "C:\\Users\\Kateryna.Kuksenok\\Documents\\headhunger\\courses\\character-design\\README.md lacks Category\n",
      "C:\\Users\\Kateryna.Kuksenok\\Documents\\headhunger\\courses\\chinese-classics\\README.md = Philosophy 0\n",
      "C:\\Users\\Kateryna.Kuksenok\\Documents\\headhunger\\courses\\chinese-classics\\README.md lacks Start\n",
      "C:\\Users\\Kateryna.Kuksenok\\Documents\\headhunger\\courses\\classical-sociology\\README.md lacks Category\n",
      "C:\\Users\\Kateryna.Kuksenok\\Documents\\headhunger\\courses\\classical-sociology\\README.md lacks Start\n",
      "C:\\Users\\Kateryna.Kuksenok\\Documents\\headhunger\\courses\\climate-change-mitigation\\README.md lacks Category\n",
      "C:\\Users\\Kateryna.Kuksenok\\Documents\\headhunger\\courses\\climate-change-mitigation\\README.md lacks Start\n",
      "C:\\Users\\Kateryna.Kuksenok\\Documents\\headhunger\\courses\\comic-book\\README.md = Visual Art 0\n",
      "C:\\Users\\Kateryna.Kuksenok\\Documents\\headhunger\\courses\\conlanging\\README.md = Language 0\n",
      "C:\\Users\\Kateryna.Kuksenok\\Documents\\headhunger\\courses\\conlanging\\README.md lacks Start\n",
      "C:\\Users\\Kateryna.Kuksenok\\Documents\\headhunger\\courses\\current-big-sci\\README.md = Readings 0\n",
      "C:\\Users\\Kateryna.Kuksenok\\Documents\\headhunger\\courses\\current-big-sci\\README.md lacks Start\n",
      "C:\\Users\\Kateryna.Kuksenok\\Documents\\headhunger\\courses\\designing-cities\\README.md = History 0\n",
      "C:\\Users\\Kateryna.Kuksenok\\Documents\\headhunger\\courses\\german\\README.md = Language 0\n",
      "C:\\Users\\Kateryna.Kuksenok\\Documents\\headhunger\\courses\\german\\README.md lacks Start\n",
      "C:\\Users\\Kateryna.Kuksenok\\Documents\\headhunger\\courses\\global-warming-1\\README.md = Visual Art 0\n",
      "C:\\Users\\Kateryna.Kuksenok\\Documents\\headhunger\\courses\\graphic-design\\README.md = Visual Art 0\n",
      "C:\\Users\\Kateryna.Kuksenok\\Documents\\headhunger\\courses\\historical-fiction\\README.md = Literature 0\n",
      "C:\\Users\\Kateryna.Kuksenok\\Documents\\headhunger\\courses\\jazz-improv\\README.md = Music 0\n",
      "C:\\Users\\Kateryna.Kuksenok\\Documents\\headhunger\\courses\\jazz-improv\\README.md lacks Start\n",
      "C:\\Users\\Kateryna.Kuksenok\\Documents\\headhunger\\courses\\learning\\README.md lacks Category\n",
      "C:\\Users\\Kateryna.Kuksenok\\Documents\\headhunger\\courses\\linguistics\\README.md lacks Category\n",
      "C:\\Users\\Kateryna.Kuksenok\\Documents\\headhunger\\courses\\linguistics\\README.md lacks Start\n",
      "C:\\Users\\Kateryna.Kuksenok\\Documents\\headhunger\\courses\\meta\\README.md = Programming 0\n",
      "C:\\Users\\Kateryna.Kuksenok\\Documents\\headhunger\\courses\\music-bio\\README.md = Music 0\n",
      "C:\\Users\\Kateryna.Kuksenok\\Documents\\headhunger\\courses\\music-tech\\README.md = Music 0\n",
      "C:\\Users\\Kateryna.Kuksenok\\Documents\\headhunger\\courses\\music-tech-2\\README.md = Music 0\n",
      "C:\\Users\\Kateryna.Kuksenok\\Documents\\headhunger\\courses\\music-tech-2\\README.md lacks Start\n",
      "C:\\Users\\Kateryna.Kuksenok\\Documents\\headhunger\\courses\\music-theory\\README.md = Music 0\n",
      "C:\\Users\\Kateryna.Kuksenok\\Documents\\headhunger\\courses\\pomo1\\README.md = History 0\n",
      "C:\\Users\\Kateryna.Kuksenok\\Documents\\headhunger\\courses\\pomo1\\README.md lacks Start\n",
      "C:\\Users\\Kateryna.Kuksenok\\Documents\\headhunger\\courses\\process-mining\\README.md lacks Category\n",
      "C:\\Users\\Kateryna.Kuksenok\\Documents\\headhunger\\courses\\process-mining\\README.md lacks Start\n",
      "C:\\Users\\Kateryna.Kuksenok\\Documents\\headhunger\\courses\\public-art-mooc\\README.md = Engagement 0\n",
      "C:\\Users\\Kateryna.Kuksenok\\Documents\\headhunger\\courses\\questionnaire-design\\README.md = science 0\n",
      "C:\\Users\\Kateryna.Kuksenok\\Documents\\headhunger\\courses\\questionnaire-design\\README.md lacks Start\n",
      "C:\\Users\\Kateryna.Kuksenok\\Documents\\headhunger\\courses\\sci-phil\\README.md = Philosophy 0\n",
      "C:\\Users\\Kateryna.Kuksenok\\Documents\\headhunger\\courses\\sci-phil\\README.md lacks Start\n",
      "C:\\Users\\Kateryna.Kuksenok\\Documents\\headhunger\\courses\\script-writing\\README.md = Writing 0\n",
      "C:\\Users\\Kateryna.Kuksenok\\Documents\\headhunger\\courses\\script-writing\\README.md lacks Start\n",
      "C:\\Users\\Kateryna.Kuksenok\\Documents\\headhunger\\courses\\songwriting\\README.md = Music 0\n",
      "C:\\Users\\Kateryna.Kuksenok\\Documents\\headhunger\\courses\\sr-meta\\README.md = science 0\n",
      "C:\\Users\\Kateryna.Kuksenok\\Documents\\headhunger\\courses\\sr-meta\\README.md lacks Start\n",
      "C:\\Users\\Kateryna.Kuksenok\\Documents\\headhunger\\courses\\stats\\README.md = science 0\n",
      "C:\\Users\\Kateryna.Kuksenok\\Documents\\headhunger\\courses\\stats\\README.md lacks Start\n",
      "C:\\Users\\Kateryna.Kuksenok\\Documents\\headhunger\\courses\\the-blues\\README.md = Music 0\n",
      "C:\\Users\\Kateryna.Kuksenok\\Documents\\headhunger\\courses\\unethical-decisions\\README.md = Philosophy 0\n",
      "C:\\Users\\Kateryna.Kuksenok\\Documents\\headhunger\\courses\\unethical-decisions\\README.md lacks Start\n",
      "C:\\Users\\Kateryna.Kuksenok\\Documents\\headhunger\\courses\\yoga\\README.md = Health 0\n",
      "0 History\n",
      "1 Readings\n",
      "2 Language\n",
      "3 Health\n",
      "4 Engagement\n",
      "5 science\n",
      "6 Programming\n",
      "7 Literature\n",
      "8 Writing\n",
      "9 Music\n",
      "10 Philosophy\n",
      "11 Visual Art\n"
     ]
    },
    {
     "data": {
      "image/png": "[encoded data removed]",
      "text/plain": [
       "<matplotlib.figure.Figure at 0x374d268160>"
      ]
     },
     "metadata": {},
     "output_type": "display_data"
    }
   ],
   "source": [
    "data = {}\n",
    "\n",
    "for course in Course.list_all(\"courses\"):\n",
    "    if Meta.CATEGORY not in course.course_desc.meta:\n",
    "        print(course.fullpath + \" lacks \" + Meta.CATEGORY)\n",
    "    else:\n",
    "        data[course.course_desc.meta[Meta.CATEGORY]] = data.get(course.course_desc.meta[Meta.CATEGORY], 0) + 1\n",
    "        print(course.fullpath + \" = \" + course.course_desc.meta[Meta.CATEGORY], 0)\n",
    "    if Meta.START not in course.course_desc.meta:\n",
    "        print(course.fullpath + \" lacks \" + Meta.START)\n",
    "\n",
    "cats = data.keys()\n",
    "vals = []\n",
    "for i, cat in enumerate(cats):\n",
    "    print(str(i) + \" \" + cat)\n",
    "    vals.append(data[cat])\n",
    "\n",
    "df = pd.DataFrame({\"categories\": cats, \"values\": vals})\n",
    "df.plot(kind = \"bar\")\n",
    "plt.show()"
   ]
  },
  {
   "cell_type": "markdown",
   "metadata": {},
   "source": [
    "# Celebrate Accomplishments"
   ]
  },
  {
   "cell_type": "code",
   "execution_count": 5,
   "metadata": {
    "collapsed": false,
    "scrolled": false
   },
   "outputs": [
    {
     "data": {
      "text/html": [
       "<h2><p><a href=\"https://www.coursera.org/learn/big-history/home/welcome\">Big History: Connecting Knowledge (2/6 steps, 2/7 tasks)</a></p>\n",
       "</h2>"
      ],
      "text/plain": [
       "<IPython.core.display.HTML object>"
      ]
     },
     "metadata": {},
     "output_type": "display_data"
    },
    {
     "name": "stdout",
     "output_type": "stream",
     "text": [
      "C:\\Users\\Kateryna.Kuksenok\\Documents\\headhunger\\courses\\big-history\\README.md\n"
     ]
    },
    {
     "data": {
      "text/html": [
       "<h2><p><a href=\"https://www.coursera.org/learn/game-character-design/home/welcome\">Video Game Character Design (1/4 steps, 2/7 tasks)</a></p>\n",
       "</h2>"
      ],
      "text/plain": [
       "<IPython.core.display.HTML object>"
      ]
     },
     "metadata": {},
     "output_type": "display_data"
    },
    {
     "name": "stdout",
     "output_type": "stream",
     "text": [
      "C:\\Users\\Kateryna.Kuksenok\\Documents\\headhunger\\courses\\character-design\\README.md\n"
     ]
    },
    {
     "data": {
      "text/html": [
       "<p><em>Reflection</em>: Actually it was very fun to watch the Adventure Time illustrator work and talk about his process! I liked his identification of certain elements (giantness, etc) as \"Lovecraftian\"</p>\n"
      ],
      "text/plain": [
       "<IPython.core.display.HTML object>"
      ]
     },
     "metadata": {},
     "output_type": "display_data"
    },
    {
     "data": {
      "text/html": [
       "<h2><p><a href=\"https://www.coursera.org/learn/classical-sociological-theory/home/welcome\">Classical Sociology Theory (3/8 steps, 3/9 tasks)</a></p>\n",
       "</h2>"
      ],
      "text/plain": [
       "<IPython.core.display.HTML object>"
      ]
     },
     "metadata": {},
     "output_type": "display_data"
    },
    {
     "name": "stdout",
     "output_type": "stream",
     "text": [
      "C:\\Users\\Kateryna.Kuksenok\\Documents\\headhunger\\courses\\classical-sociology\\README.md\n"
     ]
    },
    {
     "data": {
      "text/html": [
       "<h2><p>Language Invention (1/6 steps, 3/15 tasks)</p>\n",
       "</h2>"
      ],
      "text/plain": [
       "<IPython.core.display.HTML object>"
      ]
     },
     "metadata": {},
     "output_type": "display_data"
    },
    {
     "name": "stdout",
     "output_type": "stream",
     "text": [
      "C:\\Users\\Kateryna.Kuksenok\\Documents\\headhunger\\courses\\conlanging\\README.md\n"
     ]
    },
    {
     "data": {
      "text/html": [
       "<p><em>Learning Goal</em>: Get an overview</p>\n"
      ],
      "text/plain": [
       "<IPython.core.display.HTML object>"
      ]
     },
     "metadata": {},
     "output_type": "display_data"
    },
    {
     "data": {
      "text/html": [
       "<p><em>Reflection</em>: This is an excellent reference book. Provides an introduction to all relevant topics.</p>\n"
      ],
      "text/plain": [
       "<IPython.core.display.HTML object>"
      ]
     },
     "metadata": {},
     "output_type": "display_data"
    },
    {
     "data": {
      "text/html": [
       "<ul>\n",
       "<li>Read \"The Art of Language Invention\" by David Peterson</li>\n",
       "</ul>\n"
      ],
      "text/plain": [
       "<IPython.core.display.HTML object>"
      ]
     },
     "metadata": {},
     "output_type": "display_data"
    },
    {
     "data": {
      "text/html": [
       "<p><em>Learning Goal</em>: get practice with different writing systems.</p>\n"
      ],
      "text/plain": [
       "<IPython.core.display.HTML object>"
      ]
     },
     "metadata": {},
     "output_type": "display_data"
    },
    {
     "data": {
      "text/html": [
       "<h2><p><a href=\"https://www.coursera.org/learn/learning-how-to-learn/home/welcome\">Learning How to Learn (0/0 steps, 0/0 tasks)</a></p>\n",
       "</h2>"
      ],
      "text/plain": [
       "<IPython.core.display.HTML object>"
      ]
     },
     "metadata": {},
     "output_type": "display_data"
    },
    {
     "name": "stdout",
     "output_type": "stream",
     "text": [
      "C:\\Users\\Kateryna.Kuksenok\\Documents\\headhunger\\courses\\learning\\README.md\n"
     ]
    },
    {
     "data": {
      "text/html": [
       "<h2><p>Meta: Design and Develop Self-Guided Learning Dashboard (1/6 steps, 7/24 tasks)</p>\n",
       "</h2>"
      ],
      "text/plain": [
       "<IPython.core.display.HTML object>"
      ]
     },
     "metadata": {},
     "output_type": "display_data"
    },
    {
     "name": "stdout",
     "output_type": "stream",
     "text": [
      "C:\\Users\\Kateryna.Kuksenok\\Documents\\headhunger\\courses\\meta\\README.md\n"
     ]
    },
    {
     "data": {
      "text/html": [
       "<p><em>Learning Goal</em>: Refine idea and approach for personal \"online course\" management system</p>\n"
      ],
      "text/plain": [
       "<IPython.core.display.HTML object>"
      ]
     },
     "metadata": {},
     "output_type": "display_data"
    },
    {
     "data": {
      "text/html": [
       "<p><em>Reflection</em>: Although my initial idea for an MVP used a simple card-based HTML5 layout, it was very fun to use Jupyter Notebook for the current use-cases (<strong>UC1: Get Outstanding Tasks</strong> and <strong>UC2: Celebrate Accomplishments</strong>) and the third major use-case (<strong>UC3: Showcase Project Porfolio</strong>) is just not very pressing. In particular, I thought that using images would be crucial for the MVP, but it seems like that can be done later because the links, in the context of Jupyter's relatively minimal UI, provide amply call to action. Also, the combination of <strong>Learning Goal and Reflection</strong> already feels like a very powerful tool, to the extent that it would perhaps be useful to take a \"curriculum\" approach to large projects in general, rather than only \"online curricula\" in particular.</p>\n"
      ],
      "text/plain": [
       "<IPython.core.display.HTML object>"
      ]
     },
     "metadata": {},
     "output_type": "display_data"
    },
    {
     "data": {
      "text/html": [
       "<ul>\n",
       "<li>Explore minimalist, beutiful HTML5 themes; found <a href=\"https://html5up.net/parallelism\">Prallelism</a> and <a href=\"https://freehtml5.co/demos/hydrogen/\">Hydrogen</a>, prefer Hydrogen but both nice.</li>\n",
       "</ul>\n"
      ],
      "text/plain": [
       "<IPython.core.display.HTML object>"
      ]
     },
     "metadata": {},
     "output_type": "display_data"
    },
    {
     "data": {
      "text/html": [
       "<ul>\n",
       "<li>Get a minimal viable product (MVP) running in Jupyter Notebook</li>\n",
       "</ul>\n"
      ],
      "text/plain": [
       "<IPython.core.display.HTML object>"
      ]
     },
     "metadata": {},
     "output_type": "display_data"
    },
    {
     "data": {
      "text/html": [
       "<ul>\n",
       "<li>Have at least one visualization of accomplishment in the MVP dash</li>\n",
       "</ul>\n"
      ],
      "text/plain": [
       "<IPython.core.display.HTML object>"
      ]
     },
     "metadata": {},
     "output_type": "display_data"
    },
    {
     "data": {
      "text/html": [
       "<ul>\n",
       "<li>Describe in the reflection the use cases and learnings</li>\n",
       "</ul>\n"
      ],
      "text/plain": [
       "<IPython.core.display.HTML object>"
      ]
     },
     "metadata": {},
     "output_type": "display_data"
    },
    {
     "data": {
      "text/html": [
       "<ul>\n",
       "<li>Lack of line breaks looks bad in the GH markdown viewer, so need to adjust the rules and the parser before plowing ahead with data migration</li>\n",
       "</ul>\n"
      ],
      "text/plain": [
       "<IPython.core.display.HTML object>"
      ]
     },
     "metadata": {},
     "output_type": "display_data"
    },
    {
     "data": {
      "text/html": [
       "<ul>\n",
       "<li>Figure out a way to deal with reading-centered tasks, and with reading notes (related more general probelm: links and relative references, as well as privacy - this repository is public, but book notes may need to stay private or with restricted visibility, such as the MHS text) such as in the art-of-programming self-guided course. Solution: just use google docs or other cloud hosting, using those sharing settings, and the URL and Keyword elements.</li>\n",
       "</ul>\n"
      ],
      "text/plain": [
       "<IPython.core.display.HTML object>"
      ]
     },
     "metadata": {},
     "output_type": "display_data"
    },
    {
     "data": {
      "text/html": [
       "<h2><p><a href=\"https://soundcloud.com/st8ma/dandelion-sun\">Survey of Music Technology (0/0 steps, 0/0 tasks)</a></p>\n",
       "</h2>"
      ],
      "text/plain": [
       "<IPython.core.display.HTML object>"
      ]
     },
     "metadata": {},
     "output_type": "display_data"
    },
    {
     "name": "stdout",
     "output_type": "stream",
     "text": [
      "C:\\Users\\Kateryna.Kuksenok\\Documents\\headhunger\\courses\\music-tech\\README.md\n"
     ]
    },
    {
     "data": {
      "text/html": [
       "<h2><p><a href=\"https://www.coursera.org/learn/edinburgh-music-theory/home/welcome\">Fundamentals of Music Theory (1/6 steps, 1/7 tasks)</a></p>\n",
       "</h2>"
      ],
      "text/plain": [
       "<IPython.core.display.HTML object>"
      ]
     },
     "metadata": {},
     "output_type": "display_data"
    },
    {
     "name": "stdout",
     "output_type": "stream",
     "text": [
      "C:\\Users\\Kateryna.Kuksenok\\Documents\\headhunger\\courses\\music-theory\\README.md\n"
     ]
    },
    {
     "data": {
      "text/html": [
       "<h2><p><a href=\"https://www.coursera.org/learn/statistical-inferences/home/welcome\">Questionnaire Design for Social Surveys (1/6 steps, 1/7 tasks)</a></p>\n",
       "</h2>"
      ],
      "text/plain": [
       "<IPython.core.display.HTML object>"
      ]
     },
     "metadata": {},
     "output_type": "display_data"
    },
    {
     "name": "stdout",
     "output_type": "stream",
     "text": [
      "C:\\Users\\Kateryna.Kuksenok\\Documents\\headhunger\\courses\\questionnaire-design\\README.md\n"
     ]
    },
    {
     "data": {
      "text/html": [
       "<h2><p><a href=\"https://www.coursera.org/learn/script-writing/home/welcome\">Script Writing (1/5 steps, 3/16 tasks)</a></p>\n",
       "</h2>"
      ],
      "text/plain": [
       "<IPython.core.display.HTML object>"
      ]
     },
     "metadata": {},
     "output_type": "display_data"
    },
    {
     "name": "stdout",
     "output_type": "stream",
     "text": [
      "C:\\Users\\Kateryna.Kuksenok\\Documents\\headhunger\\courses\\script-writing\\README.md\n"
     ]
    },
    {
     "data": {
      "text/html": [
       "<ul>\n",
       "<li>Update this summary and save drafts and feedbacks in the folder (Included the <a href=\"https://docs.google.com/document/d/1oj2G-HjYJbYpZRYoJkt7VboLlfq0g4GJH3K2CuMne6o/edit\">URL to the GDoc</a>)</li>\n",
       "</ul>\n"
      ],
      "text/plain": [
       "<IPython.core.display.HTML object>"
      ]
     },
     "metadata": {},
     "output_type": "display_data"
    },
    {
     "data": {
      "text/html": [
       "<h2><p><a href=\"https://www.coursera.org/learn/statistical-inferences/home/welcome\">Improving your statistical inferences (1/8 steps, 1/8 tasks)</a></p>\n",
       "</h2>"
      ],
      "text/plain": [
       "<IPython.core.display.HTML object>"
      ]
     },
     "metadata": {},
     "output_type": "display_data"
    },
    {
     "name": "stdout",
     "output_type": "stream",
     "text": [
      "C:\\Users\\Kateryna.Kuksenok\\Documents\\headhunger\\courses\\stats\\README.md\n"
     ]
    },
    {
     "data": {
      "image/png": "[encoded data removed]",
      "text/plain": [
       "<matplotlib.figure.Figure at 0x3750afe550>"
      ]
     },
     "metadata": {},
     "output_type": "display_data"
    },
    {
     "name": "stdout",
     "output_type": "stream",
     "text": [
      "0 = Big History: Connecting Knowledge\n",
      "1 = Video Game Character Design\n",
      "2 = Classical Sociology Theory\n",
      "3 = Language Invention\n",
      "4 = Learning How to Learn\n",
      "5 = Meta: Design and Develop Self-Guided Learning Dashboard\n",
      "6 = Survey of Music Technology\n",
      "7 = Fundamentals of Music Theory\n",
      "8 = Questionnaire Design for Social Surveys\n",
      "9 = Script Writing\n",
      "10 = Improving your statistical inferences\n"
     ]
    }
   ],
   "source": [
    "import pandas as pd\n",
    "import matplotlib.pyplot as plt\n",
    "%matplotlib inline\n",
    "\n",
    "data = {\"courses\": [], \"steps\":[], \"tasks\":[]}\n",
    "\n",
    "for course in Course.list_all(\"courses\"):\n",
    "    steps_completed = 0\n",
    "    steps_total = 0\n",
    "    tasks_completed = 0\n",
    "    tasks_total = 0\n",
    "    for step in course.steps:\n",
    "        if len(step.finished) + len(step.tasks) > 0:\n",
    "            steps_total += 1\n",
    "            if len(step.tasks) == 0:\n",
    "                steps_completed += 1\n",
    "            tasks_completed += len(step.finished)\n",
    "            tasks_total += len(step.finished) + len(step.tasks)\n",
    "\n",
    "    if steps_completed == 0 and Meta.END not in course.course_desc.meta:\n",
    "        continue\n",
    "    \n",
    "    data[\"courses\"].append(course.course_desc.title)\n",
    "    if Meta.END in course.course_desc.meta:\n",
    "        data[\"steps\"].append(1)\n",
    "        data[\"tasks\"].append(1)\n",
    "    else:\n",
    "        data[\"steps\"].append(steps_completed/steps_total)\n",
    "        data[\"tasks\"].append(tasks_completed/tasks_total)\n",
    "    \n",
    "    title = course.course_desc.title  + \" (\" + str(steps_completed) + \"/\" + str(steps_total) + \" steps, \" + str(tasks_completed) + \"/\" + str(tasks_total) + \" tasks)\"\n",
    "    if Meta.URL in course.course_desc.meta:\n",
    "        title = \"[\" + title + \"](\" + course.course_desc.meta[Meta.URL] + \")\"\n",
    "    \n",
    "    display(HTML(\"<h2>\" + markdown(title) + \"</h2>\"))\n",
    "    print(course.fullpath)\n",
    "    for step in course.steps:\n",
    "        \n",
    "        if len(step.finished) > 0:\n",
    "\n",
    "            if Meta.LEARNING_GOAL in step.meta:\n",
    "                display(HTML(markdown(\"_\" + Meta.LEARNING_GOAL + \"_: \" + step.meta[Meta.LEARNING_GOAL])))\n",
    "            if Meta.REFLECTION in step.meta:\n",
    "                display(HTML(markdown(\"_\" + Meta.REFLECTION + \"_: \" + step.meta[Meta.REFLECTION])))\n",
    "            \n",
    "            for f in step.finished:\n",
    "                if len(f) > 50: # Another condition for being interesting would be having a URL or image\n",
    "                    display(HTML(markdown(\"* \" + f)))\n",
    "            \n",
    "df = pd.DataFrame(data)\n",
    "df.plot(kind = \"bar\")\n",
    "plt.show()\n",
    "for i, c in enumerate(data[\"courses\"]):\n",
    "    print(str(i) + \" = \" + c)"
   ]
  },
  {
   "cell_type": "markdown",
   "metadata": {},
   "source": [
    "# Showcase Project Portfolio"
   ]
  },
  {
   "cell_type": "code",
   "execution_count": null,
   "metadata": {
    "collapsed": true
   },
   "outputs": [],
   "source": [
    "# TODO :)\n",
    "# This should generate a website"
   ]
  },
  {
   "cell_type": "markdown",
   "metadata": {},
   "source": [
    "# Modify Parser and Data Structures"
   ]
  },
  {
   "cell_type": "code",
   "execution_count": 2,
   "metadata": {
    "collapsed": false
   },
   "outputs": [],
   "source": [
    "import os\n",
    "import os.path\n",
    "import time, datetime\n",
    "\n",
    "from IPython.core.display import display, HTML\n",
    "import mistune\n",
    "\n",
    "markdown = mistune.Markdown()\n",
    "\n",
    "class CourseFSM:\n",
    "    \n",
    "    READING_PORTFOLIO = 1\n",
    "    READING_STEPS = 2\n",
    "    COURSE_DESC = 3\n",
    "    COURSE_TITLE = 0\n",
    "    \n",
    "    def __init__(self):\n",
    "        self.state = CourseFSM.COURSE_TITLE\n",
    "    \n",
    "    def update(self, line, course_desc, portfolio, steps):\n",
    "        if line.startswith(\"#\"):\n",
    "            title = line.split(\" \", 1)[1].strip()\n",
    "            if self.state == CourseFSM.COURSE_TITLE:\n",
    "                course_desc.title = title\n",
    "                self.state = CourseFSM.COURSE_DESC\n",
    "            elif title == Meta.PORTFOLIO:\n",
    "                portfolio.append(MetaBlock())\n",
    "                self.state = CourseFSM.READING_PORTFOLIO\n",
    "            elif title.startswith(Meta.NUMBERED_STEP):\n",
    "                steps.append(MetaBlock(title))\n",
    "                self.state = CourseFSM.READING_STEPS\n",
    "        elif self.state == CourseFSM.READING_PORTFOLIO or self.state == CourseFSM.READING_STEPS:\n",
    "            if len(line.strip()) == 0:\n",
    "                if self.state == CourseFSM.READING_PORTFOLIO:\n",
    "                    portfolio.append(MetaBlock())\n",
    "            else:\n",
    "                if self.state == CourseFSM.READING_PORTFOLIO:\n",
    "                    portfolio[-1].add_meta(line)\n",
    "                else:\n",
    "                    steps[-1].add_meta(line)\n",
    "        elif self.state == CourseFSM.COURSE_DESC:\n",
    "            course_desc.add_meta(line)\n",
    "        \n",
    "class Course:\n",
    "    \n",
    "    def list_all(coursepath):\n",
    "        out = []\n",
    "        for shortpath in os.listdir(coursepath):\n",
    "            fullpath = os.path.join(coursepath, shortpath)\n",
    "            if os.path.isdir(fullpath) and not shortpath.startswith(\"_\"):\n",
    "                out.append(Course(os.path.join(fullpath,\"README.md\")))\n",
    "        return out\n",
    "    \n",
    "    def day_diff(dmy1, dmy2):\n",
    "        dmy1 = Course.to_epoch(dmy1)\n",
    "        dmy2 = Course.to_epoch(dmy2)\n",
    "        return (dmy1-dmy2)/60/60/24\n",
    "        \n",
    "    def to_epoch(strtime, default = None):\n",
    "        dt = datetime.datetime.strptime(strtime, \"%d.%m.%Y\")\n",
    "        return time.mktime(dt.timetuple())\n",
    "    \n",
    "    def ping_radius(self):\n",
    "        if not Meta.PING in self.course_desc.meta:\n",
    "            return 0\n",
    "        return Course.day_diff(self.course_desc.meta[Meta.PING],datetime.datetime.today().strftime('%d.%m.%Y'))\n",
    "    \n",
    "    def current_step(self):\n",
    "        for step in self.steps:\n",
    "            if len(step.tasks) > 0:\n",
    "                return step\n",
    "    \n",
    "    def __init__(self, fullpath):\n",
    "        #print(\"reading \" + fullpath)\n",
    "        s = open(fullpath, 'r').read()\n",
    "        self.fullpath = os.path.abspath(fullpath)\n",
    "        self.course_desc = MetaBlock()\n",
    "        self.portfolio = []\n",
    "        self.steps = []\n",
    "        \n",
    "        state = CourseFSM()\n",
    "        \n",
    "        for line in s.split(\"\\n\"):\n",
    "            state.update(line, self.course_desc, self.portfolio, self.steps)\n",
    "    \n",
    "    #TODO write self back out\n",
    "        \n",
    "    def __str__(self):\n",
    "        return str(self.course_desc) + \":\\n\\t\" + \"\\n\\t\".join((str(mb) for mb in self.steps))\n",
    "    \n",
    "class MetaBlock:\n",
    "        \n",
    "    def __init__(self, title = \"?\"):\n",
    "        self.title = title\n",
    "        self.meta = {}\n",
    "        self.tasks = []\n",
    "        self.finished = []\n",
    "        \n",
    "    def add_meta(self, line):\n",
    "        if line.startswith(Meta.TODO):\n",
    "            self.tasks.append(line[len(Meta.TODO):].strip())\n",
    "            return True\n",
    "        elif line.startswith(Meta.FINISHED):\n",
    "            self.finished.append(line[len(Meta.FINISHED):].strip())\n",
    "            return True\n",
    "        \n",
    "        line = line.split(Meta.SEPARATOR, 1)\n",
    "        if len(line) < 2:\n",
    "            return False\n",
    "        if line[0] in Meta.SUPPORTED:\n",
    "            self.meta[line[0]] = line[1].strip()\n",
    "            return True\n",
    "        print(\"Error: unrecognized meta header in \" + str(line))\n",
    "        return False\n",
    "    \n",
    "    def __str__(self):\n",
    "        return self.title + \" (\" + str(len(self.finished)) + \"/\" + str(\n",
    "            len(self.finished) + len(self.tasks)) + \")\" + \"\\n\\t\\t\" + \"\\n\\t\\t\".join(\n",
    "            (key + \"=\" + value for key,value in self.meta.items())) + \"\\n\\t\\t\" + \"\\n\\t\\t\".join(\n",
    "            (\"- [ ]\" + t for t in self.tasks)) + \"\\n\\t\\t\" + \"\\n\\t\\t\".join(\n",
    "            (\"- [X]\" + t for t in self.finished))\n",
    "        \n",
    "class Meta:\n",
    "    SEPARATOR = \":\"\n",
    "    CASE_SENSITIVE = True\n",
    "    CATEGORY = \"Category\"\n",
    "    CURRICULUM = \"Curriculum\"\n",
    "    PING = \"Ping\"\n",
    "    URL = \"URL\"\n",
    "    PHOTO_CREDIT = \"Photo-Credit\"\n",
    "    THUMB = \"Thumb\"\n",
    "    LEARNING_GOAL = \"Learning Goal\"\n",
    "    REFLECTION = \"Reflection\"\n",
    "    TITLE = \"Title\"\n",
    "    DESCRIPTION = \"Description\"\n",
    "    PROJECT = \"Project\"\n",
    "    KEYWORDS = \"Keywords\"\n",
    "    START = \"Start\"\n",
    "    END = \"End\"\n",
    "    TODO = \"- [ ]\"\n",
    "    FINISHED = \"- [X]\"\n",
    "    SUPPORTED = [URL, CATEGORY, CURRICULUM, PING, PHOTO_CREDIT, THUMB, LEARNING_GOAL,\n",
    "                 REFLECTION, KEYWORDS, TITLE, DESCRIPTION, PROJECT, START, END]\n",
    "    PORTFOLIO = \"Portfolio\"\n",
    "    NUMBERED_STEP = \"Week\""
   ]
  }
 ],
 "metadata": {
  "anaconda-cloud": {},
  "kernelspec": {
   "display_name": "Python [conda root]",
   "language": "python",
   "name": "conda-root-py"
  },
  "language_info": {
   "codemirror_mode": {
    "name": "ipython",
    "version": 3
   },
   "file_extension": ".py",
   "mimetype": "text/x-python",
   "name": "python",
   "nbconvert_exporter": "python",
   "pygments_lexer": "ipython3",
   "version": "3.5.2"
  },
  "widgets": {
   "state": {
    "5115525712c54ea69bfd7f90aaeaae57": {
     "views": [
      {
       "cell_index": 1
      }
     ]
    },
    "ed67a17da0a548559f442c6dec601a5c": {
     "views": [
      {
       "cell_index": 1
      }
     ]
    }
   },
   "version": "1.2.0"
  }
 },
 "nbformat": 4,
 "nbformat_minor": 1
}
