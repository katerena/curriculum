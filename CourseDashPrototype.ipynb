{
 "cells": [
  {
   "cell_type": "markdown",
   "metadata": {},
   "source": [
    "# Get Outstanding Tasks"
   ]
  },
  {
   "cell_type": "code",
   "execution_count": 219,
   "metadata": {
    "collapsed": false
   },
   "outputs": [
    {
     "data": {
      "text/html": [
       "<h2><p><a href=\"[https://docs.google.com/document/d/1CD2bOwV5-VAXorAmYwHZQjEucoX6n8qLg1DmEmHeeCs/edit?usp=sharing]\">Art of Programming (1 days)</a></p>\n",
       "</h2>"
      ],
      "text/plain": [
       "<IPython.core.display.HTML object>"
      ]
     },
     "metadata": {},
     "output_type": "display_data"
    },
    {
     "name": "stdout",
     "output_type": "stream",
     "text": [
      "C:\\Users\\Kateryna.Kuksenok\\Documents\\headhunger\\courses\\art-of-programming\\README.md\n"
     ]
    },
    {
     "data": {
      "text/html": [
       "<p><em>Learning Goal</em>: Overview of approaches to debugging</p>\n"
      ],
      "text/plain": [
       "<IPython.core.display.HTML object>"
      ]
     },
     "metadata": {},
     "output_type": "display_data"
    },
    {
     "data": {
      "text/html": [
       "<ul>\n",
       "<li>Reading: <em>The Developer's Guide to Debugging (2nd ed)</em>, by Groetker, Holtmann, Keding, Wloka</li>\n",
       "<li>Reading: Code Smells</li>\n",
       "<li>Reading K? Software Tools</li>\n",
       "</ul>\n"
      ],
      "text/plain": [
       "<IPython.core.display.HTML object>"
      ]
     },
     "metadata": {},
     "output_type": "display_data"
    },
    {
     "data": {
      "text/html": [
       "<h2><p><a href=\"https://www.coursera.org/learn/big-history/home/welcome\">Big History: Connecting Knowledge (1 days)</a></p>\n",
       "</h2>"
      ],
      "text/plain": [
       "<IPython.core.display.HTML object>"
      ]
     },
     "metadata": {},
     "output_type": "display_data"
    },
    {
     "name": "stdout",
     "output_type": "stream",
     "text": [
      "C:\\Users\\Kateryna.Kuksenok\\Documents\\headhunger\\courses\\big-history\\README.md\n"
     ]
    },
    {
     "data": {
      "text/html": [
       "<ul>\n",
       "<li>Quiz</li>\n",
       "</ul>\n"
      ],
      "text/plain": [
       "<IPython.core.display.HTML object>"
      ]
     },
     "metadata": {},
     "output_type": "display_data"
    },
    {
     "data": {
      "text/html": [
       "<h2><p><a href=\"https://www.coursera.org/learn/game-character-design/home/welcome\">Video Game Character Design (1 days)</a></p>\n",
       "</h2>"
      ],
      "text/plain": [
       "<IPython.core.display.HTML object>"
      ]
     },
     "metadata": {},
     "output_type": "display_data"
    },
    {
     "name": "stdout",
     "output_type": "stream",
     "text": [
      "C:\\Users\\Kateryna.Kuksenok\\Documents\\headhunger\\courses\\character-design\\README.md\n"
     ]
    },
    {
     "data": {
      "text/html": [
       "<ul>\n",
       "<li>Opposites Attract</li>\n",
       "</ul>\n"
      ],
      "text/plain": [
       "<IPython.core.display.HTML object>"
      ]
     },
     "metadata": {},
     "output_type": "display_data"
    },
    {
     "data": {
      "text/html": [
       "<h2><p><a href=\"https://www.coursera.org/learn/classical-sociological-theory/home/welcome\">Classical Sociology Theory (1 days)</a></p>\n",
       "</h2>"
      ],
      "text/plain": [
       "<IPython.core.display.HTML object>"
      ]
     },
     "metadata": {},
     "output_type": "display_data"
    },
    {
     "name": "stdout",
     "output_type": "stream",
     "text": [
      "C:\\Users\\Kateryna.Kuksenok\\Documents\\headhunger\\courses\\classical-sociology\\README.md\n"
     ]
    },
    {
     "data": {
      "text/html": [
       "<ul>\n",
       "<li>Quiz</li>\n",
       "</ul>\n"
      ],
      "text/plain": [
       "<IPython.core.display.HTML object>"
      ]
     },
     "metadata": {},
     "output_type": "display_data"
    },
    {
     "data": {
      "text/html": [
       "<h2><p><a href=\"https://www.coursera.org/learn/interactive-computer-graphics/home/welcome\">Interactive Computer Graphics (1 days)</a></p>\n",
       "</h2>"
      ],
      "text/plain": [
       "<IPython.core.display.HTML object>"
      ]
     },
     "metadata": {},
     "output_type": "display_data"
    },
    {
     "name": "stdout",
     "output_type": "stream",
     "text": [
      "C:\\Users\\Kateryna.Kuksenok\\Documents\\headhunger\\courses\\computer-graphics\\README.md\n"
     ]
    },
    {
     "data": {
      "text/html": [
       "<ul>\n",
       "<li>Quiz</li>\n",
       "</ul>\n"
      ],
      "text/plain": [
       "<IPython.core.display.HTML object>"
      ]
     },
     "metadata": {},
     "output_type": "display_data"
    },
    {
     "data": {
      "text/html": [
       "<h2><p>German (1 days)</p>\n",
       "</h2>"
      ],
      "text/plain": [
       "<IPython.core.display.HTML object>"
      ]
     },
     "metadata": {},
     "output_type": "display_data"
    },
    {
     "name": "stdout",
     "output_type": "stream",
     "text": [
      "C:\\Users\\Kateryna.Kuksenok\\Documents\\headhunger\\courses\\german\\README.md\n"
     ]
    },
    {
     "data": {
      "text/html": [
       "<ul>\n",
       "<li>Get <a href=\"http://duolingo.com\">Golden Tree on Duolingo</a></li>\n",
       "<li>Flesh out this curriculum</li>\n",
       "</ul>\n"
      ],
      "text/plain": [
       "<IPython.core.display.HTML object>"
      ]
     },
     "metadata": {},
     "output_type": "display_data"
    },
    {
     "data": {
      "text/html": [
       "<h2><p><a href=\"https://www.coursera.org/learn/edinburgh-music-theory/home/welcome\">Fundamentals of Music Theory (1 days)</a></p>\n",
       "</h2>"
      ],
      "text/plain": [
       "<IPython.core.display.HTML object>"
      ]
     },
     "metadata": {},
     "output_type": "display_data"
    },
    {
     "name": "stdout",
     "output_type": "stream",
     "text": [
      "C:\\Users\\Kateryna.Kuksenok\\Documents\\headhunger\\courses\\music-theory\\README.md\n"
     ]
    },
    {
     "data": {
      "text/html": [
       "<ul>\n",
       "<li>Quiz</li>\n",
       "</ul>\n"
      ],
      "text/plain": [
       "<IPython.core.display.HTML object>"
      ]
     },
     "metadata": {},
     "output_type": "display_data"
    },
    {
     "data": {
      "text/html": [
       "<h2><p><a href=\"https://www.coursera.org/learn/script-writing/home/welcome\">Script Writing (1 days)</a></p>\n",
       "</h2>"
      ],
      "text/plain": [
       "<IPython.core.display.HTML object>"
      ]
     },
     "metadata": {},
     "output_type": "display_data"
    },
    {
     "name": "stdout",
     "output_type": "stream",
     "text": [
      "C:\\Users\\Kateryna.Kuksenok\\Documents\\headhunger\\courses\\script-writing\\README.md\n"
     ]
    },
    {
     "data": {
      "text/html": [
       "<ul>\n",
       "<li>Episode pitch</li>\n",
       "<li>Act 1 outline</li>\n",
       "<li>Act 1 draft</li>\n",
       "</ul>\n"
      ],
      "text/plain": [
       "<IPython.core.display.HTML object>"
      ]
     },
     "metadata": {},
     "output_type": "display_data"
    },
    {
     "data": {
      "text/html": [
       "<h2><p><a href=\"https://www.coursera.org/learn/statistical-inferences/home/welcome\">Improving your statistical inferences (1 days)</a></p>\n",
       "</h2>"
      ],
      "text/plain": [
       "<IPython.core.display.HTML object>"
      ]
     },
     "metadata": {},
     "output_type": "display_data"
    },
    {
     "name": "stdout",
     "output_type": "stream",
     "text": [
      "C:\\Users\\Kateryna.Kuksenok\\Documents\\headhunger\\courses\\stats\\README.md\n"
     ]
    },
    {
     "data": {
      "text/html": [
       "<ul>\n",
       "<li>Quiz</li>\n",
       "</ul>\n"
      ],
      "text/plain": [
       "<IPython.core.display.HTML object>"
      ]
     },
     "metadata": {},
     "output_type": "display_data"
    },
    {
     "data": {
      "text/html": [
       "<h2><p><a href=\"https://www.coursera.org/learn/the-blues/home/welcome\">The Blues: Understanding and Performing an American Art Form (1 days)</a></p>\n",
       "</h2>"
      ],
      "text/plain": [
       "<IPython.core.display.HTML object>"
      ]
     },
     "metadata": {},
     "output_type": "display_data"
    },
    {
     "name": "stdout",
     "output_type": "stream",
     "text": [
      "C:\\Users\\Kateryna.Kuksenok\\Documents\\headhunger\\courses\\the-blues\\README.md\n"
     ]
    },
    {
     "data": {
      "text/html": [
       "<ul>\n",
       "<li>Quiz</li>\n",
       "</ul>\n"
      ],
      "text/plain": [
       "<IPython.core.display.HTML object>"
      ]
     },
     "metadata": {},
     "output_type": "display_data"
    },
    {
     "data": {
      "text/html": [
       "<h2><em>Shown: 10/22 </em></h2>"
      ],
      "text/plain": [
       "<IPython.core.display.HTML object>"
      ]
     },
     "metadata": {},
     "output_type": "display_data"
    }
   ],
   "source": [
    "not_showing = 0\n",
    "\n",
    "output = \"\"\n",
    "\n",
    "total = 0\n",
    "shown = 0\n",
    "\n",
    "for course in Course.list_all(\"courses\"):\n",
    "    step = course.current_step()\n",
    "    total += 1\n",
    "    if step == None:\n",
    "        continue\n",
    "    ping_radius = int(course.ping_radius())\n",
    "    if ping_radius > 3:\n",
    "        continue\n",
    "    \n",
    "    shown += 1\n",
    "    title = course.course_desc.title  + \" (\" + str(ping_radius) + \" days)\"\n",
    "    if Meta.URL in course.course_desc.meta:\n",
    "        title = \"[\" + title + \"](\" + course.course_desc.meta[Meta.URL] + \")\"\n",
    "    \n",
    "    display(HTML(\"<h2>\" + markdown(title) + \"</h2>\"))\n",
    "    output += \"\\n<h2>\" + markdown(title) + \"</h2>\\n\"\n",
    "    \n",
    "    print(course.fullpath)\n",
    "    \n",
    "    if Meta.LEARNING_GOAL in step.meta:\n",
    "        display(HTML(markdown(\"_\" + Meta.LEARNING_GOAL + \"_: \" + step.meta[Meta.LEARNING_GOAL])))\n",
    "        output += markdown(\"\\n\\n_\" + Meta.LEARNING_GOAL + \"_: \" + step.meta[Meta.LEARNING_GOAL])\n",
    "    \n",
    "    display(HTML(markdown(\"* \" + \"\\n* \".join(step.tasks))))\n",
    "    output += markdown(\"\\n\\n* \" + \"\\n* \".join(step.tasks))\n",
    "    \n",
    "display(HTML(\"<h2><em>Shown: \" + str(shown) + \"/\" + str(total) + \" </em></h2>\"))\n",
    "output += \"\\n<h2><em>Shown: \" + str(shown) + \"/\" + str(total) + \" </em></h2>\\n\"\n",
    "\n",
    "\n",
    "fo = open(\"index.html\", \"w\")\n",
    "\n",
    "fo.write(output)\n",
    "\n",
    "fo.close()\n"
   ]
  },
  {
   "cell_type": "code",
   "execution_count": null,
   "metadata": {
    "collapsed": true
   },
   "outputs": [],
   "source": [
    "for course in Course.list_all(\"courses\"):\n",
    "    if Meta.CATEGORY in course.co\n",
    "    "
   ]
  },
  {
   "cell_type": "markdown",
   "metadata": {},
   "source": [
    "# Celebrate Accomplishments"
   ]
  },
  {
   "cell_type": "code",
   "execution_count": 210,
   "metadata": {
    "collapsed": false
   },
   "outputs": [
    {
     "name": "stdout",
     "output_type": "stream",
     "text": [
      "Error: unrecognized meta header in ['Reflections', ' Already, one idea hasb een to just migrate tasks upwards if I get too excited (e.g., some of the tasks marked as completed from last week were actually initially here, but I got over-excited). The core difference between the weeks is off-time, and opportunity to dwell in the subsconscious on the various ideas, and allow them to germinate/rise/insert-cooking-metaphor here.']\n"
     ]
    },
    {
     "data": {
      "text/html": [
       "<h2><p><a href=\"https://www.coursera.org/learn/classical-sociological-theory/home/welcome\">Classical Sociology Theory (2/8 steps, 2/9 tasks)</a></p>\n",
       "</h2>"
      ],
      "text/plain": [
       "<IPython.core.display.HTML object>"
      ]
     },
     "metadata": {},
     "output_type": "display_data"
    },
    {
     "name": "stdout",
     "output_type": "stream",
     "text": [
      "C:\\Users\\Kateryna.Kuksenok\\Documents\\headhunger\\courses\\classical-sociology\\README.md\n"
     ]
    },
    {
     "data": {
      "text/html": [
       "<ul>\n",
       "<li>Quiz</li>\n",
       "</ul>\n"
      ],
      "text/plain": [
       "<IPython.core.display.HTML object>"
      ]
     },
     "metadata": {},
     "output_type": "display_data"
    },
    {
     "data": {
      "text/html": [
       "<ul>\n",
       "<li>Quiz</li>\n",
       "</ul>\n"
      ],
      "text/plain": [
       "<IPython.core.display.HTML object>"
      ]
     },
     "metadata": {},
     "output_type": "display_data"
    },
    {
     "data": {
      "text/html": [
       "<h2><p>Language Invention (1/6 steps, 1/15 tasks)</p>\n",
       "</h2>"
      ],
      "text/plain": [
       "<IPython.core.display.HTML object>"
      ]
     },
     "metadata": {},
     "output_type": "display_data"
    },
    {
     "name": "stdout",
     "output_type": "stream",
     "text": [
      "C:\\Users\\Kateryna.Kuksenok\\Documents\\headhunger\\courses\\conlanging\\README.md\n"
     ]
    },
    {
     "data": {
      "text/html": [
       "<p><em>Learning Goal</em>: Get an overview</p>\n"
      ],
      "text/plain": [
       "<IPython.core.display.HTML object>"
      ]
     },
     "metadata": {},
     "output_type": "display_data"
    },
    {
     "data": {
      "text/html": [
       "<p><em>Reflection</em>: This is an excellent reference book. Provides an introduction to all relevant topics.</p>\n"
      ],
      "text/plain": [
       "<IPython.core.display.HTML object>"
      ]
     },
     "metadata": {},
     "output_type": "display_data"
    },
    {
     "data": {
      "text/html": [
       "<ul>\n",
       "<li>Read \"The Art of Language Invention\" by David Peterson</li>\n",
       "</ul>\n"
      ],
      "text/plain": [
       "<IPython.core.display.HTML object>"
      ]
     },
     "metadata": {},
     "output_type": "display_data"
    },
    {
     "data": {
      "text/html": [
       "<h2><p><a href=\"https://www.coursera.org/learn/learning-how-to-learn/home/welcome\">Learning How to Learn (0/0 steps, 0/0 tasks)</a></p>\n",
       "</h2>"
      ],
      "text/plain": [
       "<IPython.core.display.HTML object>"
      ]
     },
     "metadata": {},
     "output_type": "display_data"
    },
    {
     "name": "stdout",
     "output_type": "stream",
     "text": [
      "C:\\Users\\Kateryna.Kuksenok\\Documents\\headhunger\\courses\\learning\\README.md\n"
     ]
    },
    {
     "data": {
      "text/html": [
       "<h2><p>Meta: Design and Develop Self-Guided Learning Dashboard (1/5 steps, 6/15 tasks)</p>\n",
       "</h2>"
      ],
      "text/plain": [
       "<IPython.core.display.HTML object>"
      ]
     },
     "metadata": {},
     "output_type": "display_data"
    },
    {
     "name": "stdout",
     "output_type": "stream",
     "text": [
      "C:\\Users\\Kateryna.Kuksenok\\Documents\\headhunger\\courses\\meta\\README.md\n"
     ]
    },
    {
     "data": {
      "text/html": [
       "<p><em>Learning Goal</em>: Refine idea and approach for personal \"online course\" management system</p>\n"
      ],
      "text/plain": [
       "<IPython.core.display.HTML object>"
      ]
     },
     "metadata": {},
     "output_type": "display_data"
    },
    {
     "data": {
      "text/html": [
       "<p><em>Reflection</em>: Although my initial idea for an MVP used a simple card-based HTML5 layout, it was very fun to use Jupyter Notebook for the current use-cases (<strong>UC1: Get Outstanding Tasks</strong> and <strong>UC2: Celebrate Accomplishments</strong>) and the third major use-case (<strong>UC3: Showcase Project Porfolio</strong>) is just not very pressing. In particular, I thought that using images would be crucial for the MVP, but it seems like that can be done later because the links, in the context of Jupyter's relatively minimal UI, provide amply call to action. Also, the combination of <strong>Learning Goal and Reflection</strong> already feels like a very powerful tool, to the extent that it would perhaps be useful to take a \"curriculum\" approach to large projects in general, rather than only \"online curricula\" in particular.</p>\n"
      ],
      "text/plain": [
       "<IPython.core.display.HTML object>"
      ]
     },
     "metadata": {},
     "output_type": "display_data"
    },
    {
     "data": {
      "text/html": [
       "<ul>\n",
       "<li>Explore minimalist, beutiful HTML5 themes; found <a href=\"https://html5up.net/parallelism\">Prallelism</a> and <a href=\"https://freehtml5.co/demos/hydrogen/\">Hydrogen</a>, prefer Hydrogen but both nice.</li>\n",
       "<li>Get a minimal viable product (MVP) running in Jupyter Notebook</li>\n",
       "<li>Have at least one visualization of accomplishment in the MVP dash</li>\n",
       "<li>Describe in the reflection the use cases and learnings</li>\n",
       "<li>Lack of line breaks looks bad in the GH markdown viewer, so need to adjust the rules and the parser before plowing ahead with data migration</li>\n",
       "<li>Figure out a way to deal with reading-centered tasks, and with reading notes (related more general probelm: links and relative references, as well as privacy - this repository is public, but book notes may need to stay private or with restricted visibility, such as the MHS text) such as in the art-of-programming self-guided course. Solution: just use google docs or other cloud hosting, using those sharing settings, and the URL and Keyword elements.</li>\n",
       "</ul>\n"
      ],
      "text/plain": [
       "<IPython.core.display.HTML object>"
      ]
     },
     "metadata": {},
     "output_type": "display_data"
    },
    {
     "data": {
      "text/html": [
       "<h2><p><a href=\"https://soundcloud.com/st8ma/dandelion-sun\">Survey of Music Technology (0/0 steps, 0/0 tasks)</a></p>\n",
       "</h2>"
      ],
      "text/plain": [
       "<IPython.core.display.HTML object>"
      ]
     },
     "metadata": {},
     "output_type": "display_data"
    },
    {
     "name": "stdout",
     "output_type": "stream",
     "text": [
      "C:\\Users\\Kateryna.Kuksenok\\Documents\\headhunger\\courses\\music-tech\\README.md\n"
     ]
    },
    {
     "data": {
      "text/html": [
       "<h2><p><a href=\"https://www.coursera.org/learn/classical-sociological-theory/home/welcome\">Classical Sociology Theory (2/8 steps, 2/9 tasks)</a></p>\n",
       "</h2>"
      ],
      "text/plain": [
       "<IPython.core.display.HTML object>"
      ]
     },
     "metadata": {},
     "output_type": "display_data"
    },
    {
     "name": "stdout",
     "output_type": "stream",
     "text": [
      "C:\\Users\\Kateryna.Kuksenok\\Documents\\headhunger\\courses\\music-theory\\README.md\n"
     ]
    },
    {
     "data": {
      "text/html": [
       "<ul>\n",
       "<li>Quiz</li>\n",
       "</ul>\n"
      ],
      "text/plain": [
       "<IPython.core.display.HTML object>"
      ]
     },
     "metadata": {},
     "output_type": "display_data"
    },
    {
     "data": {
      "text/html": [
       "<ul>\n",
       "<li>Quiz</li>\n",
       "</ul>\n"
      ],
      "text/plain": [
       "<IPython.core.display.HTML object>"
      ]
     },
     "metadata": {},
     "output_type": "display_data"
    },
    {
     "data": {
      "text/html": [
       "<h2><p><a href=\"https://www.coursera.org/learn/script-writing/home/welcome\">Script Writing (1/5 steps, 3/13 tasks)</a></p>\n",
       "</h2>"
      ],
      "text/plain": [
       "<IPython.core.display.HTML object>"
      ]
     },
     "metadata": {},
     "output_type": "display_data"
    },
    {
     "name": "stdout",
     "output_type": "stream",
     "text": [
      "C:\\Users\\Kateryna.Kuksenok\\Documents\\headhunger\\courses\\script-writing\\README.md\n"
     ]
    },
    {
     "data": {
      "text/html": [
       "<ul>\n",
       "<li>Series Summary</li>\n",
       "<li>\"Minibible\"</li>\n",
       "<li>Update this summary and save drafts and feedbacks in the folder (Included the <a href=\"https://docs.google.com/document/d/1oj2G-HjYJbYpZRYoJkt7VboLlfq0g4GJH3K2CuMne6o/edit\">URL to the GDoc</a>)</li>\n",
       "</ul>\n"
      ],
      "text/plain": [
       "<IPython.core.display.HTML object>"
      ]
     },
     "metadata": {},
     "output_type": "display_data"
    },
    {
     "data": {
      "image/png": "[encoded data removed]",
      "text/plain": [
       "<matplotlib.figure.Figure at 0xb79c5b4198>"
      ]
     },
     "metadata": {},
     "output_type": "display_data"
    },
    {
     "name": "stdout",
     "output_type": "stream",
     "text": [
      "0 = Classical Sociology Theory\n",
      "1 = Language Invention\n",
      "2 = Learning How to Learn\n",
      "3 = Meta: Design and Develop Self-Guided Learning Dashboard\n",
      "4 = Survey of Music Technology\n",
      "5 = Classical Sociology Theory\n",
      "6 = Script Writing\n"
     ]
    }
   ],
   "source": [
    "import pandas as pd\n",
    "import matplotlib.pyplot as plt\n",
    "%matplotlib inline\n",
    "\n",
    "data = {\"courses\": [], \"steps\":[], \"tasks\":[]}\n",
    "\n",
    "for course in Course.list_all(\"courses\"):\n",
    "    steps_completed = 0\n",
    "    steps_total = 0\n",
    "    tasks_completed = 0\n",
    "    tasks_total = 0\n",
    "    for step in course.steps:\n",
    "        if len(step.finished) + len(step.tasks) > 0:\n",
    "            steps_total += 1\n",
    "            if len(step.tasks) == 0:\n",
    "                steps_completed += 1\n",
    "            tasks_completed += len(step.finished)\n",
    "            tasks_total += len(step.finished) + len(step.tasks)\n",
    "\n",
    "    if steps_completed == 0 and Meta.END not in course.course_desc.meta:\n",
    "        continue\n",
    "    \n",
    "    data[\"courses\"].append(course.course_desc.title)\n",
    "    if Meta.END in course.course_desc.meta:\n",
    "        data[\"steps\"].append(1)\n",
    "        data[\"tasks\"].append(1)\n",
    "    else:\n",
    "        data[\"steps\"].append(steps_completed/steps_total)\n",
    "        data[\"tasks\"].append(tasks_completed/tasks_total)\n",
    "    \n",
    "    title = course.course_desc.title  + \" (\" + str(steps_completed) + \"/\" + str(steps_total) + \" steps, \" + str(tasks_completed) + \"/\" + str(tasks_total) + \" tasks)\"\n",
    "    if Meta.URL in course.course_desc.meta:\n",
    "        title = \"[\" + title + \"](\" + course.course_desc.meta[Meta.URL] + \")\"\n",
    "    \n",
    "    display(HTML(\"<h2>\" + markdown(title) + \"</h2>\"))\n",
    "    print(course.fullpath)\n",
    "    for step in course.steps:\n",
    "        \n",
    "        if len(step.finished) > 0:\n",
    "\n",
    "            if Meta.LEARNING_GOAL in step.meta:\n",
    "                display(HTML(markdown(\"_\" + Meta.LEARNING_GOAL + \"_: \" + step.meta[Meta.LEARNING_GOAL])))\n",
    "            if Meta.REFLECTION in step.meta:\n",
    "                display(HTML(markdown(\"_\" + Meta.REFLECTION + \"_: \" + step.meta[Meta.REFLECTION])))\n",
    "\n",
    "            display(HTML(markdown(\"* \" + \"\\n* \".join(step.finished))))\n",
    "            \n",
    "df = pd.DataFrame(data)\n",
    "df.plot(kind = \"bar\")\n",
    "plt.show()\n",
    "for i, c in enumerate(data[\"courses\"]):\n",
    "    print(str(i) + \" = \" + c)"
   ]
  },
  {
   "cell_type": "markdown",
   "metadata": {},
   "source": [
    "# Showcase Project Portfolio"
   ]
  },
  {
   "cell_type": "code",
   "execution_count": null,
   "metadata": {
    "collapsed": true
   },
   "outputs": [],
   "source": [
    "# TODO :)\n",
    "# This should generate a website"
   ]
  },
  {
   "cell_type": "markdown",
   "metadata": {},
   "source": [
    "# Modify Parser and Data Structures"
   ]
  },
  {
   "cell_type": "code",
   "execution_count": 197,
   "metadata": {
    "collapsed": false
   },
   "outputs": [],
   "source": [
    "import os\n",
    "import os.path\n",
    "import time, datetime\n",
    "\n",
    "from IPython.core.display import display, HTML\n",
    "import mistune\n",
    "\n",
    "markdown = mistune.Markdown()\n",
    "\n",
    "class CourseFSM:\n",
    "    \n",
    "    READING_PORTFOLIO = 1\n",
    "    READING_STEPS = 2\n",
    "    COURSE_DESC = 3\n",
    "    COURSE_TITLE = 0\n",
    "    \n",
    "    def __init__(self):\n",
    "        self.state = CourseFSM.COURSE_TITLE\n",
    "    \n",
    "    def update(self, line, course_desc, portfolio, steps):\n",
    "        if line.startswith(\"#\"):\n",
    "            title = line.split(\" \", 1)[1].strip()\n",
    "            if self.state == CourseFSM.COURSE_TITLE:\n",
    "                course_desc.title = title\n",
    "                self.state = CourseFSM.COURSE_DESC\n",
    "            elif title == Meta.PORTFOLIO:\n",
    "                portfolio.append(MetaBlock())\n",
    "                self.state = CourseFSM.READING_PORTFOLIO\n",
    "            elif title.startswith(Meta.NUMBERED_STEP):\n",
    "                steps.append(MetaBlock(title))\n",
    "                self.state = CourseFSM.READING_STEPS\n",
    "        elif self.state == CourseFSM.READING_PORTFOLIO or self.state == CourseFSM.READING_STEPS:\n",
    "            if len(line.strip()) == 0:\n",
    "                if self.state == CourseFSM.READING_PORTFOLIO:\n",
    "                    portfolio.append(MetaBlock())\n",
    "            else:\n",
    "                if self.state == CourseFSM.READING_PORTFOLIO:\n",
    "                    portfolio[-1].add_meta(line)\n",
    "                else:\n",
    "                    steps[-1].add_meta(line)\n",
    "        elif self.state == CourseFSM.COURSE_DESC:\n",
    "            course_desc.add_meta(line)\n",
    "        \n",
    "class Course:\n",
    "    \n",
    "    def list_all(coursepath):\n",
    "        out = []\n",
    "        for shortpath in os.listdir(coursepath):\n",
    "            fullpath = os.path.join(coursepath, shortpath)\n",
    "            if os.path.isdir(fullpath) and not shortpath.startswith(\"_\"):\n",
    "                out.append(Course(os.path.join(fullpath,\"README.md\")))\n",
    "        return out\n",
    "    \n",
    "    def day_diff(dmy1, dmy2):\n",
    "        dmy1 = Course.to_epoch(dmy1)\n",
    "        dmy2 = Course.to_epoch(dmy2)\n",
    "        return (dmy1-dmy2)/60/60/24\n",
    "        \n",
    "    def to_epoch(strtime, default = None):\n",
    "        dt = datetime.datetime.strptime(strtime, \"%d.%m.%Y\")\n",
    "        return time.mktime(dt.timetuple())\n",
    "    \n",
    "    def ping_radius(self):\n",
    "        if not Meta.PING in self.course_desc.meta:\n",
    "            return 0\n",
    "        return Course.day_diff(self.course_desc.meta[Meta.PING],datetime.datetime.today().strftime('%d.%m.%Y'))\n",
    "    \n",
    "    def current_step(self):\n",
    "        for step in self.steps:\n",
    "            if len(step.tasks) > 0:\n",
    "                return step\n",
    "    \n",
    "    def __init__(self, fullpath):\n",
    "        s = open(fullpath, 'r').read()\n",
    "        self.fullpath = os.path.abspath(fullpath)\n",
    "        self.course_desc = MetaBlock()\n",
    "        self.portfolio = []\n",
    "        self.steps = []\n",
    "        \n",
    "        state = CourseFSM()\n",
    "        \n",
    "        for line in s.split(\"\\n\"):\n",
    "            state.update(line, self.course_desc, self.portfolio, self.steps)\n",
    "    \n",
    "    #TODO write self back out\n",
    "        \n",
    "    def __str__(self):\n",
    "        return str(self.course_desc) + \":\\n\\t\" + \"\\n\\t\".join((str(mb) for mb in self.steps))\n",
    "    \n",
    "class MetaBlock:\n",
    "        \n",
    "    def __init__(self, title = \"?\"):\n",
    "        self.title = title\n",
    "        self.meta = {}\n",
    "        self.tasks = []\n",
    "        self.finished = []\n",
    "        \n",
    "    def add_meta(self, line):\n",
    "        if line.startswith(Meta.TODO):\n",
    "            self.tasks.append(line[len(Meta.TODO):].strip())\n",
    "            return True\n",
    "        elif line.startswith(Meta.FINISHED):\n",
    "            self.finished.append(line[len(Meta.FINISHED):].strip())\n",
    "            return True\n",
    "        \n",
    "        line = line.split(Meta.SEPARATOR, 1)\n",
    "        if len(line) < 2:\n",
    "            return False\n",
    "        if line[0] in Meta.SUPPORTED:\n",
    "            self.meta[line[0]] = line[1].strip()\n",
    "            return True\n",
    "        print(\"Error: unrecognized meta header in \" + str(line))\n",
    "        return False\n",
    "    \n",
    "    def __str__(self):\n",
    "        return self.title + \" (\" + str(len(self.finished)) + \"/\" + str(\n",
    "            len(self.finished) + len(self.tasks)) + \")\" + \"\\n\\t\\t\" + \"\\n\\t\\t\".join(\n",
    "            (key + \"=\" + value for key,value in self.meta.items())) + \"\\n\\t\\t\" + \"\\n\\t\\t\".join(\n",
    "            (\"- [ ]\" + t for t in self.tasks)) + \"\\n\\t\\t\" + \"\\n\\t\\t\".join(\n",
    "            (\"- [X]\" + t for t in self.finished))\n",
    "        \n",
    "class Meta:\n",
    "    SEPARATOR = \":\"\n",
    "    CASE_SENSITIVE = True\n",
    "    CATEGORY = \"Category\"\n",
    "    CURRICULUM = \"Curriculum\"\n",
    "    PING = \"Ping\"\n",
    "    URL = \"URL\"\n",
    "    PHOTO_CREDIT = \"Photo-Credit\"\n",
    "    THUMB = \"Thumb\"\n",
    "    LEARNING_GOAL = \"Learning Goal\"\n",
    "    REFLECTION = \"Reflection\"\n",
    "    TITLE = \"Title\"\n",
    "    DESCRIPTION = \"Description\"\n",
    "    PROJECT = \"Project\"\n",
    "    KEYWORDS = \"Keywords\"\n",
    "    START = \"Start\"\n",
    "    END = \"End\"\n",
    "    TODO = \"- [ ]\"\n",
    "    FINISHED = \"- [X]\"\n",
    "    SUPPORTED = [URL, CATEGORY, CURRICULUM, PING, PHOTO_CREDIT, THUMB, LEARNING_GOAL,\n",
    "                 REFLECTION, KEYWORDS, TITLE, DESCRIPTION, PROJECT, START, END]\n",
    "    PORTFOLIO = \"Portfolio\"\n",
    "    NUMBERED_STEP = \"Week\""
   ]
  }
 ],
 "metadata": {
  "anaconda-cloud": {},
  "kernelspec": {
   "display_name": "Python [conda root]",
   "language": "python",
   "name": "conda-root-py"
  },
  "language_info": {
   "codemirror_mode": {
    "name": "ipython",
    "version": 3
   },
   "file_extension": ".py",
   "mimetype": "text/x-python",
   "name": "python",
   "nbconvert_exporter": "python",
   "pygments_lexer": "ipython3",
   "version": "3.5.2"
  }
 },
 "nbformat": 4,
 "nbformat_minor": 1
}
